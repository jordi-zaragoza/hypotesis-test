{
 "cells": [
  {
   "cell_type": "code",
   "execution_count": 1,
   "id": "1902969e",
   "metadata": {},
   "outputs": [],
   "source": [
    "import hypotesis_test"
   ]
  },
  {
   "cell_type": "code",
   "execution_count": 2,
   "id": "72a6be48",
   "metadata": {},
   "outputs": [
    {
     "data": {
      "application/vnd.jupyter.widget-view+json": {
       "model_id": "bab39e65039a4b9bbe316666b0b78d7d",
       "version_major": 2,
       "version_minor": 0
      },
      "text/plain": [
       "interactive(children=(BoundedFloatText(value=-1.8, description='T-statistic:', min=-100.0, step=0.05), Dropdow…"
      ]
     },
     "metadata": {},
     "output_type": "display_data"
    }
   ],
   "source": [
    "hypotesis_test.test('norm')"
   ]
  },
  {
   "cell_type": "code",
   "execution_count": 3,
   "id": "415f6026",
   "metadata": {},
   "outputs": [
    {
     "data": {
      "application/vnd.jupyter.widget-view+json": {
       "model_id": "23b4be097a67473eb5d6f72708bc5576",
       "version_major": 2,
       "version_minor": 0
      },
      "text/plain": [
       "interactive(children=(BoundedFloatText(value=-1.8, description='T-statistic:', min=-100.0, step=0.05), Dropdow…"
      ]
     },
     "metadata": {},
     "output_type": "display_data"
    }
   ],
   "source": [
    "hypotesis_test.test('t')"
   ]
  }
 ],
 "metadata": {
  "kernelspec": {
   "display_name": "Python 3 (ipykernel)",
   "language": "python",
   "name": "python3"
  },
  "language_info": {
   "codemirror_mode": {
    "name": "ipython",
    "version": 3
   },
   "file_extension": ".py",
   "mimetype": "text/x-python",
   "name": "python",
   "nbconvert_exporter": "python",
   "pygments_lexer": "ipython3",
   "version": "3.9.5"
  }
 },
 "nbformat": 4,
 "nbformat_minor": 5
}

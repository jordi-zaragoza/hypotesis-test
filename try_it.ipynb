{
 "cells": [
  {
   "cell_type": "code",
   "execution_count": 1,
   "id": "1902969e",
   "metadata": {},
   "outputs": [],
   "source": [
    "import hypotesis_test"
   ]
  },
  {
   "cell_type": "code",
   "execution_count": 2,
   "id": "72a6be48",
   "metadata": {},
   "outputs": [
    {
     "data": {
      "application/vnd.jupyter.widget-view+json": {
       "model_id": "3d8b42c5bfcd4c07b0660e64a3ebdfbc",
       "version_major": 2,
       "version_minor": 0
      },
      "text/plain": [
       "interactive(children=(BoundedFloatText(value=2.8, description='Z-statistic:', min=-10.0, step=0.05), BoundedFl…"
      ]
     },
     "metadata": {},
     "output_type": "display_data"
    }
   ],
   "source": [
    "hypotesis_test.normal()"
   ]
  },
  {
   "cell_type": "code",
   "execution_count": 5,
   "id": "415f6026",
   "metadata": {},
   "outputs": [
    {
     "data": {
      "application/vnd.jupyter.widget-view+json": {
       "model_id": "b47f9abbe5da4539b7fea38a1d6e9e47",
       "version_major": 2,
       "version_minor": 0
      },
      "text/plain": [
       "interactive(children=(BoundedFloatText(value=2.8, description='T-statistic:', min=-10.0, step=0.05), BoundedFl…"
      ]
     },
     "metadata": {},
     "output_type": "display_data"
    }
   ],
   "source": [
    "hypotesis_test.t_student()"
   ]
  }
 ],
 "metadata": {
  "kernelspec": {
   "display_name": "Python 3 (ipykernel)",
   "language": "python",
   "name": "python3"
  },
  "language_info": {
   "codemirror_mode": {
    "name": "ipython",
    "version": 3
   },
   "file_extension": ".py",
   "mimetype": "text/x-python",
   "name": "python",
   "nbconvert_exporter": "python",
   "pygments_lexer": "ipython3",
   "version": "3.9.7"
  }
 },
 "nbformat": 4,
 "nbformat_minor": 5
}
